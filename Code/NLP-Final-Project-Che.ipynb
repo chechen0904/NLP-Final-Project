{
 "cells": [
  {
   "cell_type": "markdown",
   "id": "098f1040",
   "metadata": {},
   "source": [
    "<div class=\"alert alert-success\">\n",
    "    <b>Read before running this .ipynb file</b>:\n",
    "     <ul>\n",
    "      <li>\n",
    "      In order to run this file successfully, you should:\n",
    "     <ul>\n",
    "      <li>\n",
    "      Go to this link: https://github.com/chechen0904/NLP-Final-Project\n",
    "      </li>\n",
    "      <li>\n",
    "      Download ZIP\n",
    "      </li>\n",
    "      <li>\n",
    "      Unzip and run this file with the \"Code\" folder\n",
    "      </li>    \n",
    "    </ul>\n",
    "</div>"
   ]
  },
  {
   "cell_type": "code",
   "execution_count": 1,
   "id": "8a4f6212",
   "metadata": {},
   "outputs": [],
   "source": [
    "import pandas as pd\n",
    "import numpy as np\n",
    "import re\n",
    "import seaborn as sns\n",
    "import matplotlib.pyplot as plt\n",
    "from sklearn.metrics import plot_confusion_matrix\n",
    "from nltk.corpus import stopwords\n",
    "from sklearn.feature_extraction.text import CountVectorizer\n",
    "from sklearn.feature_extraction.text import TfidfTransformer\n",
    "from sklearn.naive_bayes import MultinomialNB\n",
    "from sklearn.metrics import classification_report\n",
    "from sklearn.model_selection import train_test_split\n",
    "from sklearn.pipeline import Pipeline\n",
    "from sklearn.feature_extraction.text import TfidfVectorizer\n",
    "from sklearn.metrics import confusion_matrix\n",
    "from sklearn.linear_model import LogisticRegression\n",
    "from sklearn.metrics import accuracy_score\n",
    "from sklearn.dummy import DummyClassifier"
   ]
  },
  {
   "cell_type": "code",
   "execution_count": 2,
   "id": "dc0530c5",
   "metadata": {},
   "outputs": [],
   "source": [
    "inputdir = \"../Data/\""
   ]
  },
  {
   "cell_type": "markdown",
   "id": "33e37e3e",
   "metadata": {},
   "source": [
    "<div class=\"alert alert-success\">\n",
    "    <b>Data source</b>:\n",
    "     <ul>\n",
    "      <li>\n",
    "      This data was downloaded from Kaggle. There are three csv data and what I used is `Datafiniti_Hotel_Reviews.csv`.\n",
    "      </li>\n",
    "      <li>\n",
    "      The data I used is a list of 1,000 hotels and their reviews provided by Datafiniti's Business Database. The most important variables in this dataset for me are the ratings and reviews from customers.\n",
    "      </li>\n",
    "      <li>\n",
    "      Link: https://www.kaggle.com/datasets/datafiniti/hotel-reviews\n",
    "      </li>    \n",
    "    </ul>\n",
    "</div>"
   ]
  },
  {
   "cell_type": "code",
   "execution_count": 3,
   "id": "65de150a",
   "metadata": {},
   "outputs": [],
   "source": [
    "hotel_data = pd.read_csv(inputdir + \"Datafiniti_Hotel_Reviews.csv\", encoding ='utf-8')"
   ]
  },
  {
   "cell_type": "code",
   "execution_count": 4,
   "id": "7d597779",
   "metadata": {},
   "outputs": [
    {
     "data": {
      "text/html": [
       "<div>\n",
       "<style scoped>\n",
       "    .dataframe tbody tr th:only-of-type {\n",
       "        vertical-align: middle;\n",
       "    }\n",
       "\n",
       "    .dataframe tbody tr th {\n",
       "        vertical-align: top;\n",
       "    }\n",
       "\n",
       "    .dataframe thead th {\n",
       "        text-align: right;\n",
       "    }\n",
       "</style>\n",
       "<table border=\"1\" class=\"dataframe\">\n",
       "  <thead>\n",
       "    <tr style=\"text-align: right;\">\n",
       "      <th></th>\n",
       "      <th>id</th>\n",
       "      <th>dateAdded</th>\n",
       "      <th>dateUpdated</th>\n",
       "      <th>address</th>\n",
       "      <th>categories</th>\n",
       "      <th>primaryCategories</th>\n",
       "      <th>city</th>\n",
       "      <th>country</th>\n",
       "      <th>keys</th>\n",
       "      <th>latitude</th>\n",
       "      <th>...</th>\n",
       "      <th>reviews.dateSeen</th>\n",
       "      <th>reviews.rating</th>\n",
       "      <th>reviews.sourceURLs</th>\n",
       "      <th>reviews.text</th>\n",
       "      <th>reviews.title</th>\n",
       "      <th>reviews.userCity</th>\n",
       "      <th>reviews.userProvince</th>\n",
       "      <th>reviews.username</th>\n",
       "      <th>sourceURLs</th>\n",
       "      <th>websites</th>\n",
       "    </tr>\n",
       "  </thead>\n",
       "  <tbody>\n",
       "    <tr>\n",
       "      <th>0</th>\n",
       "      <td>AVwc252WIN2L1WUfpqLP</td>\n",
       "      <td>2016-10-30T21:42:42Z</td>\n",
       "      <td>2018-09-10T21:06:27Z</td>\n",
       "      <td>5921 Valencia Cir</td>\n",
       "      <td>Hotels,Hotels and motels,Hotel and motel reser...</td>\n",
       "      <td>Accommodation &amp; Food Services</td>\n",
       "      <td>Rancho Santa Fe</td>\n",
       "      <td>US</td>\n",
       "      <td>us/ca/ranchosantafe/5921valenciacir/359754519</td>\n",
       "      <td>32.990959</td>\n",
       "      <td>...</td>\n",
       "      <td>2016-08-03T00:00:00Z,2016-07-26T00:00:00Z,2016...</td>\n",
       "      <td>5.0</td>\n",
       "      <td>https://www.hotels.com/hotel/125419/reviews%20/</td>\n",
       "      <td>Our experience at Rancho Valencia was absolute...</td>\n",
       "      <td>Best romantic vacation ever!!!!</td>\n",
       "      <td>NaN</td>\n",
       "      <td>NaN</td>\n",
       "      <td>Paula</td>\n",
       "      <td>http://www.hotels.com/ho125419/%25252525253Flo...</td>\n",
       "      <td>http://www.ranchovalencia.com</td>\n",
       "    </tr>\n",
       "    <tr>\n",
       "      <th>1</th>\n",
       "      <td>AVwc252WIN2L1WUfpqLP</td>\n",
       "      <td>2016-10-30T21:42:42Z</td>\n",
       "      <td>2018-09-10T21:06:27Z</td>\n",
       "      <td>5921 Valencia Cir</td>\n",
       "      <td>Hotels,Hotels and motels,Hotel and motel reser...</td>\n",
       "      <td>Accommodation &amp; Food Services</td>\n",
       "      <td>Rancho Santa Fe</td>\n",
       "      <td>US</td>\n",
       "      <td>us/ca/ranchosantafe/5921valenciacir/359754519</td>\n",
       "      <td>32.990959</td>\n",
       "      <td>...</td>\n",
       "      <td>2016-08-02T00:00:00Z,2016-08-26T00:00:00Z,2016...</td>\n",
       "      <td>5.0</td>\n",
       "      <td>https://www.hotels.com/hotel/125419/reviews%20/</td>\n",
       "      <td>Amazing place. Everyone was extremely warm and...</td>\n",
       "      <td>Sweet sweet serenity</td>\n",
       "      <td>NaN</td>\n",
       "      <td>NaN</td>\n",
       "      <td>D</td>\n",
       "      <td>http://www.hotels.com/ho125419/%25252525253Flo...</td>\n",
       "      <td>http://www.ranchovalencia.com</td>\n",
       "    </tr>\n",
       "    <tr>\n",
       "      <th>2</th>\n",
       "      <td>AVwc252WIN2L1WUfpqLP</td>\n",
       "      <td>2016-10-30T21:42:42Z</td>\n",
       "      <td>2018-09-10T21:06:27Z</td>\n",
       "      <td>5921 Valencia Cir</td>\n",
       "      <td>Hotels,Hotels and motels,Hotel and motel reser...</td>\n",
       "      <td>Accommodation &amp; Food Services</td>\n",
       "      <td>Rancho Santa Fe</td>\n",
       "      <td>US</td>\n",
       "      <td>us/ca/ranchosantafe/5921valenciacir/359754519</td>\n",
       "      <td>32.990959</td>\n",
       "      <td>...</td>\n",
       "      <td>2016-11-15T00:00:00Z,2016-08-23T00:00:00Z,2016...</td>\n",
       "      <td>5.0</td>\n",
       "      <td>https://www.hotels.com/hotel/125419/reviews%20/</td>\n",
       "      <td>We booked a 3 night stay at Rancho Valencia to...</td>\n",
       "      <td>Amazing Property and Experience</td>\n",
       "      <td>NaN</td>\n",
       "      <td>NaN</td>\n",
       "      <td>Ron</td>\n",
       "      <td>http://www.hotels.com/ho125419/%25252525253Flo...</td>\n",
       "      <td>http://www.ranchovalencia.com</td>\n",
       "    </tr>\n",
       "    <tr>\n",
       "      <th>3</th>\n",
       "      <td>AVwdOclqIN2L1WUfti38</td>\n",
       "      <td>2015-11-28T19:19:35Z</td>\n",
       "      <td>2018-09-10T21:06:16Z</td>\n",
       "      <td>7520 Teague Rd</td>\n",
       "      <td>Hotels,Hotels and motels,Travel agencies and b...</td>\n",
       "      <td>Accommodation &amp; Food Services</td>\n",
       "      <td>Hanover</td>\n",
       "      <td>US</td>\n",
       "      <td>us/md/hanover/7520teaguerd/-2043779672</td>\n",
       "      <td>39.155929</td>\n",
       "      <td>...</td>\n",
       "      <td>2016-05-21T00:00:00Z,2016-07-31T00:00:00Z</td>\n",
       "      <td>2.0</td>\n",
       "      <td>https://www.tripadvisor.com/Hotel_Review-g4118...</td>\n",
       "      <td>Currently in bed writing this for the past hr ...</td>\n",
       "      <td>Never again...beware, if you want sleep.</td>\n",
       "      <td>Richmond</td>\n",
       "      <td>VA</td>\n",
       "      <td>jaeem2016</td>\n",
       "      <td>http://www.yellowbook.com/profile/aloft-arunde...</td>\n",
       "      <td>http://www.starwoodhotels.com/alofthotels/prop...</td>\n",
       "    </tr>\n",
       "    <tr>\n",
       "      <th>4</th>\n",
       "      <td>AVwdOclqIN2L1WUfti38</td>\n",
       "      <td>2015-11-28T19:19:35Z</td>\n",
       "      <td>2018-09-10T21:06:16Z</td>\n",
       "      <td>7520 Teague Rd</td>\n",
       "      <td>Hotels,Hotels and motels,Travel agencies and b...</td>\n",
       "      <td>Accommodation &amp; Food Services</td>\n",
       "      <td>Hanover</td>\n",
       "      <td>US</td>\n",
       "      <td>us/md/hanover/7520teaguerd/-2043779672</td>\n",
       "      <td>39.155929</td>\n",
       "      <td>...</td>\n",
       "      <td>2016-07-31T00:00:00Z</td>\n",
       "      <td>5.0</td>\n",
       "      <td>https://www.tripadvisor.com/Hotel_Review-g4118...</td>\n",
       "      <td>I live in Md and the Aloft is my Home away fro...</td>\n",
       "      <td>ALWAYS GREAT STAY...</td>\n",
       "      <td>Laurel</td>\n",
       "      <td>MD</td>\n",
       "      <td>MamaNiaOne</td>\n",
       "      <td>http://www.yellowbook.com/profile/aloft-arunde...</td>\n",
       "      <td>http://www.starwoodhotels.com/alofthotels/prop...</td>\n",
       "    </tr>\n",
       "  </tbody>\n",
       "</table>\n",
       "<p>5 rows × 25 columns</p>\n",
       "</div>"
      ],
      "text/plain": [
       "                     id             dateAdded           dateUpdated  \\\n",
       "0  AVwc252WIN2L1WUfpqLP  2016-10-30T21:42:42Z  2018-09-10T21:06:27Z   \n",
       "1  AVwc252WIN2L1WUfpqLP  2016-10-30T21:42:42Z  2018-09-10T21:06:27Z   \n",
       "2  AVwc252WIN2L1WUfpqLP  2016-10-30T21:42:42Z  2018-09-10T21:06:27Z   \n",
       "3  AVwdOclqIN2L1WUfti38  2015-11-28T19:19:35Z  2018-09-10T21:06:16Z   \n",
       "4  AVwdOclqIN2L1WUfti38  2015-11-28T19:19:35Z  2018-09-10T21:06:16Z   \n",
       "\n",
       "             address                                         categories  \\\n",
       "0  5921 Valencia Cir  Hotels,Hotels and motels,Hotel and motel reser...   \n",
       "1  5921 Valencia Cir  Hotels,Hotels and motels,Hotel and motel reser...   \n",
       "2  5921 Valencia Cir  Hotels,Hotels and motels,Hotel and motel reser...   \n",
       "3     7520 Teague Rd  Hotels,Hotels and motels,Travel agencies and b...   \n",
       "4     7520 Teague Rd  Hotels,Hotels and motels,Travel agencies and b...   \n",
       "\n",
       "               primaryCategories             city country  \\\n",
       "0  Accommodation & Food Services  Rancho Santa Fe      US   \n",
       "1  Accommodation & Food Services  Rancho Santa Fe      US   \n",
       "2  Accommodation & Food Services  Rancho Santa Fe      US   \n",
       "3  Accommodation & Food Services          Hanover      US   \n",
       "4  Accommodation & Food Services          Hanover      US   \n",
       "\n",
       "                                            keys   latitude  ...  \\\n",
       "0  us/ca/ranchosantafe/5921valenciacir/359754519  32.990959  ...   \n",
       "1  us/ca/ranchosantafe/5921valenciacir/359754519  32.990959  ...   \n",
       "2  us/ca/ranchosantafe/5921valenciacir/359754519  32.990959  ...   \n",
       "3         us/md/hanover/7520teaguerd/-2043779672  39.155929  ...   \n",
       "4         us/md/hanover/7520teaguerd/-2043779672  39.155929  ...   \n",
       "\n",
       "                                    reviews.dateSeen reviews.rating  \\\n",
       "0  2016-08-03T00:00:00Z,2016-07-26T00:00:00Z,2016...            5.0   \n",
       "1  2016-08-02T00:00:00Z,2016-08-26T00:00:00Z,2016...            5.0   \n",
       "2  2016-11-15T00:00:00Z,2016-08-23T00:00:00Z,2016...            5.0   \n",
       "3          2016-05-21T00:00:00Z,2016-07-31T00:00:00Z            2.0   \n",
       "4                               2016-07-31T00:00:00Z            5.0   \n",
       "\n",
       "                                  reviews.sourceURLs  \\\n",
       "0    https://www.hotels.com/hotel/125419/reviews%20/   \n",
       "1    https://www.hotels.com/hotel/125419/reviews%20/   \n",
       "2    https://www.hotels.com/hotel/125419/reviews%20/   \n",
       "3  https://www.tripadvisor.com/Hotel_Review-g4118...   \n",
       "4  https://www.tripadvisor.com/Hotel_Review-g4118...   \n",
       "\n",
       "                                        reviews.text  \\\n",
       "0  Our experience at Rancho Valencia was absolute...   \n",
       "1  Amazing place. Everyone was extremely warm and...   \n",
       "2  We booked a 3 night stay at Rancho Valencia to...   \n",
       "3  Currently in bed writing this for the past hr ...   \n",
       "4  I live in Md and the Aloft is my Home away fro...   \n",
       "\n",
       "                              reviews.title reviews.userCity  \\\n",
       "0           Best romantic vacation ever!!!!              NaN   \n",
       "1                      Sweet sweet serenity              NaN   \n",
       "2           Amazing Property and Experience              NaN   \n",
       "3  Never again...beware, if you want sleep.         Richmond   \n",
       "4                      ALWAYS GREAT STAY...           Laurel   \n",
       "\n",
       "   reviews.userProvince reviews.username  \\\n",
       "0                   NaN            Paula   \n",
       "1                   NaN                D   \n",
       "2                   NaN              Ron   \n",
       "3                    VA        jaeem2016   \n",
       "4                    MD       MamaNiaOne   \n",
       "\n",
       "                                          sourceURLs  \\\n",
       "0  http://www.hotels.com/ho125419/%25252525253Flo...   \n",
       "1  http://www.hotels.com/ho125419/%25252525253Flo...   \n",
       "2  http://www.hotels.com/ho125419/%25252525253Flo...   \n",
       "3  http://www.yellowbook.com/profile/aloft-arunde...   \n",
       "4  http://www.yellowbook.com/profile/aloft-arunde...   \n",
       "\n",
       "                                            websites  \n",
       "0                      http://www.ranchovalencia.com  \n",
       "1                      http://www.ranchovalencia.com  \n",
       "2                      http://www.ranchovalencia.com  \n",
       "3  http://www.starwoodhotels.com/alofthotels/prop...  \n",
       "4  http://www.starwoodhotels.com/alofthotels/prop...  \n",
       "\n",
       "[5 rows x 25 columns]"
      ]
     },
     "execution_count": 4,
     "metadata": {},
     "output_type": "execute_result"
    }
   ],
   "source": [
    "hotel_data.head()"
   ]
  },
  {
   "cell_type": "markdown",
   "id": "2cf38318",
   "metadata": {},
   "source": [
    "# Data visualization"
   ]
  },
  {
   "cell_type": "markdown",
   "id": "04c27d0e",
   "metadata": {},
   "source": [
    "<div class=\"alert alert-success\">\n",
    "    <b>Data description</b>:\n",
    "     <ul>\n",
    "      <li>\n",
    "      The following data visualization graphs allow us to understand the variables contained in the data, whether there are any missing values, and the distribution of the variable values.\n",
    "      </li>\n",
    "      <li>\n",
    "      From the following first graph, we can find that the data contains the hotel information such as hotel address, category, customer's rating and reviews etc. Among them, \"reviews.userCity\" and \"reviews.userProvince\" exist a large number of missing values.\n",
    "      </li>\n",
    "      <li>\n",
    "      The following second graph is related with one of my most interested variables: hotel's rating from the customers. We can clearly observe that the scores are mostly concentrated in integer points: 1.0, 2.0, 3.0, 4.0 and 5.0, where most of the ratings scored by customers fell on 4.0 and 5.0.\n",
    "      </li>\n",
    "      <li>\n",
    "      In the \"Generate variables\" part, there is also a data description for the newly generated variables.\n",
    "      </li>         \n",
    "    </ul>\n",
    "</div>"
   ]
  },
  {
   "cell_type": "code",
   "execution_count": 5,
   "id": "c20f42c9",
   "metadata": {},
   "outputs": [
    {
     "data": {
      "text/plain": [
       "<AxesSubplot:>"
      ]
     },
     "execution_count": 5,
     "metadata": {},
     "output_type": "execute_result"
    },
    {
     "data": {
      "image/png": "[encoded data removed]",
      "text/plain": [
       "<Figure size 432x288 with 1 Axes>"
      ]
     },
     "metadata": {
      "needs_background": "light"
     },
     "output_type": "display_data"
    }
   ],
   "source": [
    "#Data visualization for the missing values\n",
    "sns.heatmap(hotel_data.isnull(), yticklabels=False, cbar=False, cmap='BuPu_r')"
   ]
  },
  {
   "cell_type": "code",
   "execution_count": 6,
   "id": "827dc1bd",
   "metadata": {},
   "outputs": [
    {
     "data": {
      "text/plain": [
       "<AxesSubplot:xlabel='reviews.rating', ylabel='count'>"
      ]
     },
     "execution_count": 6,
     "metadata": {},
     "output_type": "execute_result"
    },
    {
     "data": {
      "image/png": "[encoded data removed]",
      "text/plain": [
       "<Figure size 432x288 with 1 Axes>"
      ]
     },
     "metadata": {
      "needs_background": "light"
     },
     "output_type": "display_data"
    }
   ],
   "source": [
    "#Check the distribution of rating\n",
    "sns.set_style(None)\n",
    "sns.countplot(x = 'reviews.rating', data = hotel_data, palette = 'BuPu_r')"
   ]
  },
  {
   "cell_type": "markdown",
   "id": "89715066",
   "metadata": {},
   "source": [
    "# Data cleaning"
   ]
  },
  {
   "cell_type": "markdown",
   "id": "7a9a1f8c",
   "metadata": {},
   "source": [
    "<div class=\"alert alert-success\">\n",
    "    <b>Clean the data</b>:\n",
    "     <ul>\n",
    "      <li>\n",
    "      Since I used \"utf-8\" when importing the data, then there are no wrongly encoded issues within the data.\n",
    "      </li>\n",
    "      <li>\n",
    "      Deal with missing values.\n",
    "      </li>\n",
    "      <li>\n",
    "      Generate variables.\n",
    "      </li>        \n",
    "    </ul>\n",
    "</div>"
   ]
  },
  {
   "cell_type": "markdown",
   "id": "45497add",
   "metadata": {},
   "source": [
    "## Missing values"
   ]
  },
  {
   "cell_type": "markdown",
   "id": "3c1ab9d1",
   "metadata": {},
   "source": [
    "<div class=\"alert alert-success\">\n",
    "    <b>Deal with missing values</b>:\n",
    "     <ul>\n",
    "      <li>\n",
    "      In the previous data visualization part we learned that the variables \"reviews.userCity\" and \"reviews.userProvince\" contain a large number of missing values. My approach is to delete these two variables. Normally it is not recommended to delete variables directly, but since I was sure I didn't need to use them, then I chose to delete them.\n",
    "      </li>\n",
    "      <li>\n",
    "      However, we could also found that both \"reviews.text\" and \"reviews.title\" have one missing value, and the missing values are too small to be visualized in the previous data visualization part. My solution was to fill in the text with \"Missing\" at the place of missing value. Since there are so few missing values, this approach does not affect the results of Naive Bayes and Logistic regression later.\n",
    "      </li>       \n",
    "    </ul>\n",
    "</div>"
   ]
  },
  {
   "cell_type": "code",
   "execution_count": 7,
   "id": "ec223e4b",
   "metadata": {
    "scrolled": true
   },
   "outputs": [
    {
     "data": {
      "text/plain": [
       "id                         0\n",
       "dateAdded                  0\n",
       "dateUpdated                0\n",
       "address                    0\n",
       "categories                 0\n",
       "primaryCategories          0\n",
       "city                       0\n",
       "country                    0\n",
       "keys                       0\n",
       "latitude                   0\n",
       "longitude                  0\n",
       "name                       0\n",
       "postalCode                 0\n",
       "province                   0\n",
       "reviews.date               0\n",
       "reviews.dateSeen           0\n",
       "reviews.rating             0\n",
       "reviews.sourceURLs         0\n",
       "reviews.text               1\n",
       "reviews.title              1\n",
       "reviews.userCity        5836\n",
       "reviews.userProvince    7295\n",
       "reviews.username           0\n",
       "sourceURLs                 0\n",
       "websites                   0\n",
       "dtype: int64"
      ]
     },
     "execution_count": 7,
     "metadata": {},
     "output_type": "execute_result"
    }
   ],
   "source": [
    "#Check which variable contains missing values and how many missing values in the variables\n",
    "hotel_data.isna().sum()"
   ]
  },
  {
   "cell_type": "code",
   "execution_count": 8,
   "id": "fc3b2546",
   "metadata": {},
   "outputs": [],
   "source": [
    "#Delete these two variable since I don't need to use them\n",
    "del hotel_data[\"reviews.userCity\"]\n",
    "del hotel_data[\"reviews.userProvince\"]"
   ]
  },
  {
   "cell_type": "code",
   "execution_count": 9,
   "id": "7c9ce9b1",
   "metadata": {},
   "outputs": [],
   "source": [
    "#Fill the missing values with text\n",
    "hotel_data[\"reviews.text\"] = hotel_data[\"reviews.text\"].fillna(\"Missing\")\n",
    "hotel_data[\"reviews.title\"] = hotel_data[\"reviews.title\"].fillna(\"Missing\")"
   ]
  },
  {
   "cell_type": "code",
   "execution_count": 10,
   "id": "f35761b6",
   "metadata": {},
   "outputs": [
    {
     "data": {
      "text/plain": [
       "id                    0\n",
       "dateAdded             0\n",
       "dateUpdated           0\n",
       "address               0\n",
       "categories            0\n",
       "primaryCategories     0\n",
       "city                  0\n",
       "country               0\n",
       "keys                  0\n",
       "latitude              0\n",
       "longitude             0\n",
       "name                  0\n",
       "postalCode            0\n",
       "province              0\n",
       "reviews.date          0\n",
       "reviews.dateSeen      0\n",
       "reviews.rating        0\n",
       "reviews.sourceURLs    0\n",
       "reviews.text          0\n",
       "reviews.title         0\n",
       "reviews.username      0\n",
       "sourceURLs            0\n",
       "websites              0\n",
       "dtype: int64"
      ]
     },
     "execution_count": 10,
     "metadata": {},
     "output_type": "execute_result"
    }
   ],
   "source": [
    "#Ensure that the data no longer contains missing values\n",
    "hotel_data.isna().sum()"
   ]
  },
  {
   "cell_type": "markdown",
   "id": "ffe24046",
   "metadata": {},
   "source": [
    "## Generate variables"
   ]
  },
  {
   "cell_type": "markdown",
   "id": "ba1e68ad",
   "metadata": {},
   "source": [
    "<div class=\"alert alert-success\">\n",
    "    <b>Generate the needed variables</b>:\n",
    "     <ul>\n",
    "      <li>\n",
    "      Generating key variable: In order to use the Naive Bayes method, I need to convert the value of the \"reviews.rating\" variable, which I defined: \n",
    "      <ul>\n",
    "      <li>If the customer's rating is below 3.5, the customer's attitude towards the hotel is considered negative;</li> \n",
    "      <li>If the rating is between 3.5 and 4.5, the attitude is considered neutral;</li> \n",
    "      <li>If the rating is higher than 4.5 - Congratulations! The attitude of the customer is sooooo positive and they thought the hotel is really excellent!</li>\n",
    "      </ul>\n",
    "      </li>\n",
    "    </ul>\n",
    "</div>         "
   ]
  },
  {
   "cell_type": "markdown",
   "id": "4584f6dd",
   "metadata": {},
   "source": [
    "<div class=\"alert alert-success\">\n",
    "    <b>Data description of the generated variables</b>:\n",
    "     <ul>         \n",
    "      <li>\n",
    "      The most frequent reviews were positive, while there is not a large difference between the number of negative and neutral reviews.\n",
    "      </li>\n",
    "      <li>\n",
    "      After generating the variable for customer review's length, we can find through data visualization that: whether the reviews are negative, neutral or positive, the majority of these reviews are between 200-400 words.\n",
    "      </li>        \n",
    "    </ul>\n",
    "</div>"
   ]
  },
  {
   "cell_type": "code",
   "execution_count": 11,
   "id": "ba49f9f9",
   "metadata": {},
   "outputs": [
    {
     "data": {
      "text/plain": [
       "5.00    4384\n",
       "4.00    2397\n",
       "3.00    1187\n",
       "1.00     572\n",
       "2.00     561\n",
       "4.80     162\n",
       "4.60     155\n",
       "4.40     102\n",
       "3.75      91\n",
       "4.15      78\n",
       "3.95      52\n",
       "3.55      50\n",
       "3.35      40\n",
       "3.15      37\n",
       "2.90      34\n",
       "2.70      23\n",
       "2.50      19\n",
       "2.30      12\n",
       "2.10      11\n",
       "1.65       8\n",
       "1.45       6\n",
       "1.90       4\n",
       "4.50       4\n",
       "3.50       2\n",
       "4.25       2\n",
       "1.25       2\n",
       "3.25       2\n",
       "2.75       1\n",
       "3.45       1\n",
       "4.75       1\n",
       "Name: reviews.rating, dtype: int64"
      ]
     },
     "execution_count": 11,
     "metadata": {},
     "output_type": "execute_result"
    }
   ],
   "source": [
    "hotel_data[\"reviews.rating\"].value_counts()"
   ]
  },
  {
   "cell_type": "code",
   "execution_count": 12,
   "id": "3c53e00d",
   "metadata": {},
   "outputs": [],
   "source": [
    "#Generate the variable I needed for Naive Bayes\n",
    "hotel_data['reviews.attitude'] = np.where(hotel_data['reviews.rating'] < 3.5, \"negative\", hotel_data['reviews.rating'])\n",
    "hotel_data['reviews.attitude'] = np.where((hotel_data['reviews.rating'] >= 3.5) & (hotel_data['reviews.rating'] < 4.5), \n",
    "                                          \"neutral\", hotel_data['reviews.attitude'])\n",
    "hotel_data['reviews.attitude'] = np.where(hotel_data['reviews.rating'] >= 4.5, \"positive\", hotel_data['reviews.attitude'])"
   ]
  },
  {
   "cell_type": "code",
   "execution_count": 13,
   "id": "b86f5d06",
   "metadata": {},
   "outputs": [
    {
     "data": {
      "text/plain": [
       "0       positive\n",
       "1       positive\n",
       "2       positive\n",
       "3       negative\n",
       "4       positive\n",
       "          ...   \n",
       "9995    negative\n",
       "9996     neutral\n",
       "9997     neutral\n",
       "9998    negative\n",
       "9999    negative\n",
       "Name: reviews.attitude, Length: 10000, dtype: object"
      ]
     },
     "execution_count": 13,
     "metadata": {},
     "output_type": "execute_result"
    }
   ],
   "source": [
    "hotel_data['reviews.attitude']"
   ]
  },
  {
   "cell_type": "code",
   "execution_count": 14,
   "id": "5336a163",
   "metadata": {},
   "outputs": [],
   "source": [
    "#Pick out the variables needed for Naive Bayes and form new data\n",
    "reviews_data = hotel_data.loc[:, ['reviews.attitude', 'reviews.text']]"
   ]
  },
  {
   "cell_type": "code",
   "execution_count": 15,
   "id": "f9a32f1f",
   "metadata": {},
   "outputs": [
    {
     "data": {
      "text/html": [
       "<div>\n",
       "<style scoped>\n",
       "    .dataframe tbody tr th:only-of-type {\n",
       "        vertical-align: middle;\n",
       "    }\n",
       "\n",
       "    .dataframe tbody tr th {\n",
       "        vertical-align: top;\n",
       "    }\n",
       "\n",
       "    .dataframe thead th {\n",
       "        text-align: right;\n",
       "    }\n",
       "</style>\n",
       "<table border=\"1\" class=\"dataframe\">\n",
       "  <thead>\n",
       "    <tr style=\"text-align: right;\">\n",
       "      <th></th>\n",
       "      <th>reviews.attitude</th>\n",
       "      <th>reviews.text</th>\n",
       "    </tr>\n",
       "  </thead>\n",
       "  <tbody>\n",
       "    <tr>\n",
       "      <th>0</th>\n",
       "      <td>positive</td>\n",
       "      <td>Our experience at Rancho Valencia was absolute...</td>\n",
       "    </tr>\n",
       "    <tr>\n",
       "      <th>1</th>\n",
       "      <td>positive</td>\n",
       "      <td>Amazing place. Everyone was extremely warm and...</td>\n",
       "    </tr>\n",
       "    <tr>\n",
       "      <th>2</th>\n",
       "      <td>positive</td>\n",
       "      <td>We booked a 3 night stay at Rancho Valencia to...</td>\n",
       "    </tr>\n",
       "    <tr>\n",
       "      <th>3</th>\n",
       "      <td>negative</td>\n",
       "      <td>Currently in bed writing this for the past hr ...</td>\n",
       "    </tr>\n",
       "    <tr>\n",
       "      <th>4</th>\n",
       "      <td>positive</td>\n",
       "      <td>I live in Md and the Aloft is my Home away fro...</td>\n",
       "    </tr>\n",
       "  </tbody>\n",
       "</table>\n",
       "</div>"
      ],
      "text/plain": [
       "  reviews.attitude                                       reviews.text\n",
       "0         positive  Our experience at Rancho Valencia was absolute...\n",
       "1         positive  Amazing place. Everyone was extremely warm and...\n",
       "2         positive  We booked a 3 night stay at Rancho Valencia to...\n",
       "3         negative  Currently in bed writing this for the past hr ...\n",
       "4         positive  I live in Md and the Aloft is my Home away fro..."
      ]
     },
     "execution_count": 15,
     "metadata": {},
     "output_type": "execute_result"
    }
   ],
   "source": [
    "reviews_data.head()"
   ]
  },
  {
   "cell_type": "code",
   "execution_count": 16,
   "id": "9cace1c7",
   "metadata": {},
   "outputs": [
    {
     "name": "stdout",
     "output_type": "stream",
     "text": [
      "<class 'pandas.core.frame.DataFrame'>\n",
      "RangeIndex: 10000 entries, 0 to 9999\n",
      "Data columns (total 2 columns):\n",
      " #   Column            Non-Null Count  Dtype \n",
      "---  ------            --------------  ----- \n",
      " 0   reviews.attitude  10000 non-null  object\n",
      " 1   reviews.text      10000 non-null  object\n",
      "dtypes: object(2)\n",
      "memory usage: 156.4+ KB\n"
     ]
    }
   ],
   "source": [
    "reviews_data.info()"
   ]
  },
  {
   "cell_type": "code",
   "execution_count": 17,
   "id": "6cbd332c",
   "metadata": {},
   "outputs": [
    {
     "data": {
      "text/html": [
       "<div>\n",
       "<style scoped>\n",
       "    .dataframe tbody tr th:only-of-type {\n",
       "        vertical-align: middle;\n",
       "    }\n",
       "\n",
       "    .dataframe tbody tr th {\n",
       "        vertical-align: top;\n",
       "    }\n",
       "\n",
       "    .dataframe thead th {\n",
       "        text-align: right;\n",
       "    }\n",
       "</style>\n",
       "<table border=\"1\" class=\"dataframe\">\n",
       "  <thead>\n",
       "    <tr style=\"text-align: right;\">\n",
       "      <th></th>\n",
       "      <th>reviews.attitude</th>\n",
       "      <th>reviews.text</th>\n",
       "    </tr>\n",
       "  </thead>\n",
       "  <tbody>\n",
       "    <tr>\n",
       "      <th>count</th>\n",
       "      <td>10000</td>\n",
       "      <td>10000</td>\n",
       "    </tr>\n",
       "    <tr>\n",
       "      <th>unique</th>\n",
       "      <td>3</td>\n",
       "      <td>9982</td>\n",
       "    </tr>\n",
       "    <tr>\n",
       "      <th>top</th>\n",
       "      <td>positive</td>\n",
       "      <td>Great</td>\n",
       "    </tr>\n",
       "    <tr>\n",
       "      <th>freq</th>\n",
       "      <td>4706</td>\n",
       "      <td>6</td>\n",
       "    </tr>\n",
       "  </tbody>\n",
       "</table>\n",
       "</div>"
      ],
      "text/plain": [
       "       reviews.attitude reviews.text\n",
       "count             10000        10000\n",
       "unique                3         9982\n",
       "top            positive        Great\n",
       "freq               4706            6"
      ]
     },
     "execution_count": 17,
     "metadata": {},
     "output_type": "execute_result"
    }
   ],
   "source": [
    "reviews_data.describe()"
   ]
  },
  {
   "cell_type": "code",
   "execution_count": 18,
   "id": "ec31647e",
   "metadata": {},
   "outputs": [
    {
     "data": {
      "text/html": [
       "<div>\n",
       "<style scoped>\n",
       "    .dataframe tbody tr th:only-of-type {\n",
       "        vertical-align: middle;\n",
       "    }\n",
       "\n",
       "    .dataframe tbody tr th {\n",
       "        vertical-align: top;\n",
       "    }\n",
       "\n",
       "    .dataframe thead tr th {\n",
       "        text-align: left;\n",
       "    }\n",
       "\n",
       "    .dataframe thead tr:last-of-type th {\n",
       "        text-align: right;\n",
       "    }\n",
       "</style>\n",
       "<table border=\"1\" class=\"dataframe\">\n",
       "  <thead>\n",
       "    <tr>\n",
       "      <th></th>\n",
       "      <th colspan=\"4\" halign=\"left\">reviews.text</th>\n",
       "    </tr>\n",
       "    <tr>\n",
       "      <th></th>\n",
       "      <th>count</th>\n",
       "      <th>unique</th>\n",
       "      <th>top</th>\n",
       "      <th>freq</th>\n",
       "    </tr>\n",
       "    <tr>\n",
       "      <th>reviews.attitude</th>\n",
       "      <th></th>\n",
       "      <th></th>\n",
       "      <th></th>\n",
       "      <th></th>\n",
       "    </tr>\n",
       "  </thead>\n",
       "  <tbody>\n",
       "    <tr>\n",
       "      <th>negative</th>\n",
       "      <td>2520</td>\n",
       "      <td>2518</td>\n",
       "      <td>Bad: Nothing. Good: Convenient location in the...</td>\n",
       "      <td>2</td>\n",
       "    </tr>\n",
       "    <tr>\n",
       "      <th>neutral</th>\n",
       "      <td>2774</td>\n",
       "      <td>2773</td>\n",
       "      <td>Bad: The restaurant was less the expected. Foo...</td>\n",
       "      <td>2</td>\n",
       "    </tr>\n",
       "    <tr>\n",
       "      <th>positive</th>\n",
       "      <td>4706</td>\n",
       "      <td>4697</td>\n",
       "      <td>Great</td>\n",
       "      <td>5</td>\n",
       "    </tr>\n",
       "  </tbody>\n",
       "</table>\n",
       "</div>"
      ],
      "text/plain": [
       "                 reviews.text         \\\n",
       "                        count unique   \n",
       "reviews.attitude                       \n",
       "negative                 2520   2518   \n",
       "neutral                  2774   2773   \n",
       "positive                 4706   4697   \n",
       "\n",
       "                                                                          \n",
       "                                                                top freq  \n",
       "reviews.attitude                                                          \n",
       "negative          Bad: Nothing. Good: Convenient location in the...    2  \n",
       "neutral           Bad: The restaurant was less the expected. Foo...    2  \n",
       "positive                                                      Great    5  "
      ]
     },
     "execution_count": 18,
     "metadata": {},
     "output_type": "execute_result"
    }
   ],
   "source": [
    "reviews_data.groupby('reviews.attitude').describe()"
   ]
  },
  {
   "cell_type": "code",
   "execution_count": 19,
   "id": "7bcb4f53",
   "metadata": {},
   "outputs": [],
   "source": [
    "reviews_data['length'] = reviews_data['reviews.text'].apply(len)"
   ]
  },
  {
   "cell_type": "code",
   "execution_count": 20,
   "id": "93161f4b",
   "metadata": {},
   "outputs": [
    {
     "data": {
      "text/plain": [
       "count    10000.000000\n",
       "mean       324.581300\n",
       "std        295.400464\n",
       "min          1.000000\n",
       "25%        201.000000\n",
       "50%        298.000000\n",
       "75%        344.000000\n",
       "max       5939.000000\n",
       "Name: length, dtype: float64"
      ]
     },
     "execution_count": 20,
     "metadata": {},
     "output_type": "execute_result"
    }
   ],
   "source": [
    "reviews_data['length'].describe()"
   ]
  },
  {
   "cell_type": "code",
   "execution_count": 21,
   "id": "f055b61d",
   "metadata": {},
   "outputs": [
    {
     "data": {
      "text/plain": [
       "array([[<AxesSubplot:title={'center':'negative'}>,\n",
       "        <AxesSubplot:title={'center':'neutral'}>],\n",
       "       [<AxesSubplot:title={'center':'positive'}>, <AxesSubplot:>]],\n",
       "      dtype=object)"
      ]
     },
     "execution_count": 21,
     "metadata": {},
     "output_type": "execute_result"
    },
    {
     "data": {
      "image/png": "[encoded data removed]",
      "text/plain": [
       "<Figure size 720x288 with 4 Axes>"
      ]
     },
     "metadata": {
      "needs_background": "light"
     },
     "output_type": "display_data"
    }
   ],
   "source": [
    "#Data visualization for key variable\n",
    "reviews_data.hist(column='length', by='reviews.attitude',color='blue', bins=25, figsize=(10,4), range=[0, 1000])"
   ]
  },
  {
   "cell_type": "markdown",
   "id": "a69b8386",
   "metadata": {},
   "source": [
    "## Text preprocessing"
   ]
  },
  {
   "cell_type": "markdown",
   "id": "0e5f017f",
   "metadata": {},
   "source": [
    "<div class=\"alert alert-success\">\n",
    "    <b>Pre-process the text</b>:\n",
    "     <ul>\n",
    "      <li>\n",
    "      In this part, the method I use is the bag-of-words (BOW) method. The BOW method is able to convert a sentence into a vector to present without considering the order of the words in the sentence, but only the frequency of the words' occurrences in the vocabulary in this sentence. Although this method has disadvantages such as not reflecting the association between words, the BOW method is very easy to understand and implement, which is the main reason why I chose it.\n",
    "      <li>\n",
    "      During text pre-processing, I:\n",
    "      <ul>\n",
    "      <li>1. Tokenization: Splits a sentence or a paragraph into single words and punctuation. A word is the smallest unit that expresses the complete meaning, and after tokenization, the unstructured text data can be converted into structured data.</li> \n",
    "      <li>2. The numeric characters, punctuation, and stopwords are removed, mainly because they do not provide useful information, and removing these noises facilitates us to perform better calculations and fits.</li> \n",
    "      <li>3. In addition, since English words are different from upper and lower case, I converted the upper case to lower case, which can reduce the number of words.</li>\n",
    "      </ul>\n",
    "      </li>\n",
    "     <li>\n",
    "      I did not use lemmatize or stem the tokens, it makes sense to use them when there are many documents and the vocabularies are large, so the feature matrix is a huge sparse matrix in this case and then the dimensions need to be reduced. But the text data I used was not really large, so those methods were not used. Also, I did not use bigrams, n-ngram (n > 2), etc., because although they preserve the order of words, the vocabulary table will be inflated at the same time.\n",
    "      </li>     \n",
    "    </ul>\n",
    "</div>  "
   ]
  },
  {
   "cell_type": "code",
   "execution_count": 22,
   "id": "14d7a9d0",
   "metadata": {},
   "outputs": [],
   "source": [
    "stopwords = stopwords.words('english')"
   ]
  },
  {
   "cell_type": "code",
   "execution_count": 23,
   "id": "a6536da8",
   "metadata": {},
   "outputs": [],
   "source": [
    "def remove_punct_tokenize(text):\n",
    "    text = re.sub(r'[^\\w\\s]','', text)\n",
    "    text = text.lower()   \n",
    "    return text.split()"
   ]
  },
  {
   "cell_type": "code",
   "execution_count": 24,
   "id": "91c4677e",
   "metadata": {},
   "outputs": [],
   "source": [
    "def remove_stopwords(text):\n",
    "    clean_stopwords = \"\"\n",
    "    for element in remove_punct_tokenize(text):\n",
    "        if element not in stopwords:\n",
    "            clean_stopwords = clean_stopwords + \" \"+ element\n",
    "    return clean_stopwords.strip()"
   ]
  },
  {
   "cell_type": "code",
   "execution_count": 25,
   "id": "8e57b728",
   "metadata": {},
   "outputs": [
    {
     "data": {
      "text/plain": [
       "0    experience rancho valencia absolutely perfect ...\n",
       "1    amazing place everyone extremely warm welcomin...\n",
       "2    booked 3 night stay rancho valencia play tenni...\n",
       "3    currently bed writing past hr 12 dogs barking ...\n",
       "4    live md aloft home away homewe stayed 1 night ...\n",
       "Name: reviews.text, dtype: object"
      ]
     },
     "execution_count": 25,
     "metadata": {},
     "output_type": "execute_result"
    }
   ],
   "source": [
    "reviews_data['reviews.text'].apply(remove_stopwords).head()"
   ]
  },
  {
   "cell_type": "code",
   "execution_count": 26,
   "id": "c5b27f18",
   "metadata": {},
   "outputs": [],
   "source": [
    "bow_transformer = CountVectorizer()"
   ]
  },
  {
   "cell_type": "code",
   "execution_count": 27,
   "id": "1d856ce4",
   "metadata": {},
   "outputs": [],
   "source": [
    "bow_transformer = CountVectorizer(preprocessor = remove_stopwords).fit(reviews_data['reviews.text'])"
   ]
  },
  {
   "cell_type": "code",
   "execution_count": 28,
   "id": "ab07f9b4",
   "metadata": {},
   "outputs": [
    {
     "data": {
      "text/plain": [
       "CountVectorizer(preprocessor=<function remove_stopwords at 0x7fd96a69c9d0>)"
      ]
     },
     "execution_count": 28,
     "metadata": {},
     "output_type": "execute_result"
    }
   ],
   "source": [
    "bow_transformer"
   ]
  },
  {
   "cell_type": "code",
   "execution_count": 29,
   "id": "8afe3989",
   "metadata": {},
   "outputs": [
    {
     "name": "stdout",
     "output_type": "stream",
     "text": [
      "19641\n"
     ]
    }
   ],
   "source": [
    "print (len(bow_transformer.vocabulary_))"
   ]
  },
  {
   "cell_type": "code",
   "execution_count": 30,
   "id": "a1dcba9b",
   "metadata": {},
   "outputs": [],
   "source": [
    "data_bow = bow_transformer.transform(reviews_data['reviews.text'])"
   ]
  },
  {
   "cell_type": "code",
   "execution_count": 31,
   "id": "f8c03a14",
   "metadata": {},
   "outputs": [],
   "source": [
    "tfidf_transformer = TfidfTransformer().fit(data_bow)"
   ]
  },
  {
   "cell_type": "code",
   "execution_count": 32,
   "id": "13ac7fae",
   "metadata": {},
   "outputs": [
    {
     "name": "stdout",
     "output_type": "stream",
     "text": [
      "(10000, 19641)\n"
     ]
    }
   ],
   "source": [
    "data_tfidf = tfidf_transformer.transform(data_bow)\n",
    "print (data_tfidf.shape)"
   ]
  },
  {
   "cell_type": "markdown",
   "id": "eeff6e5e",
   "metadata": {},
   "source": [
    "# Methods Implementation"
   ]
  },
  {
   "cell_type": "markdown",
   "id": "83bd2e2a",
   "metadata": {},
   "source": [
    "<div class=\"alert alert-success\">\n",
    "    <b>Implement the algorithms</b>:\n",
    "     <ul>\n",
    "      <li>\n",
    "      In the NLP final project, I used two algorithms:\n",
    "      <ul>\n",
    "      <li>1. Naive Bayes. The Naive Bayes is a classification method based on Bayes' theorem and the assumption of conditional independence of features. The features of this algorithm are the combination of prior and posterior probabilities, and the assumption that all appears of features are independent of each other and each feature is equally important.</li> \n",
    "      <li>2. Logistic regression. Logistic regression is a machine learning method used to solve dichotomous problems and is used to estimate the probability. The feature of this algorithm is that it is not a regression algorithm that needs to predict continuous outcomes; logistic regression is not algorithm for regression but for classification.</li> \n",
    "      </ul>\n",
    "      </li>\n",
    "     <li>\n",
    "      Advantages and disadvantages of the algorithms:\n",
    "      <ul>\n",
    "      <li>\n",
    "      Naive Bayes:\n",
    "      <ul>\n",
    "      <li>\n",
    "      Advantages: the algorithm shows high accuracy with large data sets; it is less sensitive for missing values, the algorithm is simple and often used for text classification...\n",
    "      </li> \n",
    "      <li>\n",
    "      Disadvantages: Due to the assumption of independence, it does not work well if the sample features are correlated...\n",
    "      </li> \n",
    "      </ul>\n",
    "      </li> \n",
    "      <li>\n",
    "      Logistic regression:\n",
    "      <ul>\n",
    "      <li>\n",
    "      Advantages: high interpretability; easy and efficient for implementation...\n",
    "      </li> \n",
    "      <li>\n",
    "      Disadvantages: bad performance when the feature space is large; under-fitting easily, low accuracy...\n",
    "      </li> \n",
    "      </ul>\n",
    "      </li>\n",
    "      <li>\n",
    "      Please note that the above mentioned are only part of the advantages and disadvantages of the algorithms. The reason for choosing these two algorithms is also mainly because my final project is related to the classification problem, so I chose these two common and simple classification algorithms.\n",
    "      </li>\n",
    "    </ul>          \n",
    "</div>  "
   ]
  },
  {
   "cell_type": "markdown",
   "id": "6c1e735f",
   "metadata": {},
   "source": [
    "<div class=\"alert alert-success\">\n",
    "    <b>My findings for the two algorithms</b>:\n",
    "     <ul>\n",
    "      <li>\n",
    "      Viewing my following interpretation for the classification report of Naive Bayes Classifier, it is clear that although lots of people said \"Naive Bayes Classifier performs very well with text data\", the overall prediction accuracy in the classification report is not high (in this project), but only 56%. It is also important to note that the recall rate of neutral classification is very low, close to 0, implying only 3% of the samples that are truly neutral are accurately predicted, which is really bad.\n",
    "      </li>\n",
    "      <li>\n",
    "      From my following interpretation of the classification report of logistic regression, it is clear that logistic regression has a more balanced performance in predicting the three types of hotel reviews (although the precision and recall rate of neutral review prediction is still lower compared with the other two types of reviews) and a higher accuracy rate (64%).\n",
    "      </li>\n",
    "      <li>\n",
    "      In my final project, after examining the classification reports of the two methods and my interpretations, it's easy to found that Logistic regression has a higher accuracy (64% > 56%), indicating that Logistic regression performs better than Naive Bayes in prediction, so I would choose the Logistic regression. If the step of stemming the tokens is added to the text pre-processing, I expect the accuracy of both methods will improve, but the improvement is not large.\n",
    "      </li>        \n",
    "    </ul>\n",
    "</div>"
   ]
  },
  {
   "cell_type": "markdown",
   "id": "9aba9497",
   "metadata": {},
   "source": [
    "## Naive Bayes Classifier"
   ]
  },
  {
   "cell_type": "code",
   "execution_count": 33,
   "id": "6181296d",
   "metadata": {},
   "outputs": [],
   "source": [
    "reviews_attitude_detect_model = MultinomialNB().fit(data_tfidf , reviews_data['reviews.attitude'])"
   ]
  },
  {
   "cell_type": "code",
   "execution_count": 34,
   "id": "88bdd7e6",
   "metadata": {},
   "outputs": [
    {
     "name": "stdout",
     "output_type": "stream",
     "text": [
      "['positive' 'positive' 'positive' ... 'neutral' 'negative' 'negative']\n"
     ]
    }
   ],
   "source": [
    "all_predictions = reviews_attitude_detect_model.predict(data_tfidf)\n",
    "print(all_predictions)"
   ]
  },
  {
   "cell_type": "code",
   "execution_count": 35,
   "id": "65e99b33",
   "metadata": {},
   "outputs": [
    {
     "name": "stdout",
     "output_type": "stream",
     "text": [
      "0       positive\n",
      "1       positive\n",
      "2       positive\n",
      "3       negative\n",
      "4       positive\n",
      "          ...   \n",
      "9995    negative\n",
      "9996     neutral\n",
      "9997     neutral\n",
      "9998    negative\n",
      "9999    negative\n",
      "Name: reviews.attitude, Length: 10000, dtype: object\n"
     ]
    }
   ],
   "source": [
    "true_val = reviews_data['reviews.attitude']\n",
    "print (true_val)"
   ]
  },
  {
   "cell_type": "code",
   "execution_count": 36,
   "id": "afc6af1c",
   "metadata": {},
   "outputs": [
    {
     "name": "stdout",
     "output_type": "stream",
     "text": [
      "              precision    recall  f1-score   support\n",
      "\n",
      "    negative       0.92      0.58      0.71      2520\n",
      "     neutral       0.90      0.12      0.22      2774\n",
      "    positive       0.58      1.00      0.74      4706\n",
      "\n",
      "    accuracy                           0.65     10000\n",
      "   macro avg       0.80      0.57      0.55     10000\n",
      "weighted avg       0.76      0.65      0.58     10000\n",
      "\n"
     ]
    }
   ],
   "source": [
    "print(classification_report(reviews_data['reviews.attitude'], all_predictions))"
   ]
  },
  {
   "cell_type": "code",
   "execution_count": 37,
   "id": "2bbceb52",
   "metadata": {},
   "outputs": [],
   "source": [
    "text_train, text_test, attitude_train, attitude_test = train_test_split(reviews_data['reviews.text'], \n",
    "                                                                        reviews_data['reviews.attitude'], \n",
    "                                                                        test_size=0.2, random_state=1)"
   ]
  },
  {
   "cell_type": "code",
   "execution_count": 38,
   "id": "17e91742",
   "metadata": {},
   "outputs": [],
   "source": [
    "#Create pipeline\n",
    "pipeline = Pipeline([\n",
    "    ('tfidf', TfidfVectorizer(preprocessor = remove_stopwords)),  #Integer counts to weighted TF-IDF scores\n",
    "    ('classifier', MultinomialNB()),  #Naive Bayes classifier\n",
    "])"
   ]
  },
  {
   "cell_type": "code",
   "execution_count": 39,
   "id": "2f59c615",
   "metadata": {},
   "outputs": [],
   "source": [
    "#Now we can directly pass message text data and the pipeline will do our pre-processing for us!\n",
    "pipeline.fit(text_train, attitude_train)\n",
    "predictions = pipeline.predict(text_test)"
   ]
  },
  {
   "cell_type": "markdown",
   "id": "e3f7c1a0",
   "metadata": {},
   "source": [
    "<div class=\"alert alert-success\">\n",
    "    <b>For classification report</b>:\n",
    "     <ul>         \n",
    "      <li>\n",
    "      precision: The proportion of samples with positive (negative) predictions that are truly positive (negative).\n",
    "      </li>\n",
    "      <li>\n",
    "      recall: The focus is on how many of the samples that are true positive (negative) are accurately predicted.\n",
    "      </li>  \n",
    "      <li>\n",
    "      f1-score: The mean value of both.\n",
    "      </li>\n",
    "      <li>\n",
    "      support: The number of occurrences of each label.\n",
    "      </li>  \n",
    "      <li>\n",
    "      accuracy: The ratio of the number of correctly classified samples to the number of all classified samples.\n",
    "      </li> \n",
    "      <li>\n",
    "      macro avg: The arithmetic average of the f1-score values of all classes (let β= 1).\n",
    "      </li> \n",
    "      <li>\n",
    "      weighted avg: The ratio of each category sample number to the total number of samples in all categories as the weight.\n",
    "      </li>          \n",
    "    </ul>\n",
    "</div>"
   ]
  },
  {
   "cell_type": "code",
   "execution_count": 40,
   "id": "35541550",
   "metadata": {},
   "outputs": [
    {
     "name": "stdout",
     "output_type": "stream",
     "text": [
      "              precision    recall  f1-score   support\n",
      "\n",
      "    negative       0.86      0.42      0.57       495\n",
      "     neutral       0.60      0.03      0.05       597\n",
      "    positive       0.52      0.98      0.68       908\n",
      "\n",
      "    accuracy                           0.56      2000\n",
      "   macro avg       0.66      0.48      0.43      2000\n",
      "weighted avg       0.63      0.56      0.46      2000\n",
      "\n"
     ]
    }
   ],
   "source": [
    "print (classification_report(attitude_test, predictions))"
   ]
  },
  {
   "cell_type": "markdown",
   "id": "ecc724e6",
   "metadata": {},
   "source": [
    "<div class=\"alert alert-success\">\n",
    "    <b>Interpret the results of classification report</b>:\n",
    "     <ul>         \n",
    "      <li>\n",
    "      For the negative class:\n",
    "      <ul>         \n",
    "      <li>\n",
    "      precision is 0.86, means that 86% of the samples predicted to be negative are truly negative.\n",
    "      </li>\n",
    "      <li>\n",
    "      recall is 0.42, means that 42% of the samples that are truly negative are accurately predicted.\n",
    "      </li>          \n",
    "      </ul> \n",
    "      <li>\n",
    "      For the neutral class:\n",
    "      <ul>         \n",
    "      <li>\n",
    "      precision is 0.60, means that 60% of the samples predicted to be neutral are truly neutral.\n",
    "      </li>\n",
    "      <li>\n",
    "      recall is 0.03, means that 3% of the samples that are truly neutral are accurately predicted.\n",
    "      </li>          \n",
    "      </ul>\n",
    "      <li>\n",
    "      For the positive class:\n",
    "      <ul>         \n",
    "      <li>\n",
    "      precision is 0.52, means that 52% of the samples predicted to be positive are truly positive.\n",
    "      </li>\n",
    "      <li>\n",
    "      recall is 0.98, means that 98% of the samples that are truly positive are accurately predicted.\n",
    "      </li>          \n",
    "      </ul>\n",
    "      </li>\n",
    "      <li>   \n",
    "      accuracy = 0.56, means that the number of correctly classified samples accounts for 56% of all classified samples. \n",
    "      </li>          \n",
    "    </ul>\n",
    "</div>"
   ]
  },
  {
   "cell_type": "code",
   "execution_count": 41,
   "id": "5275099c",
   "metadata": {},
   "outputs": [
    {
     "data": {
      "text/plain": [
       "array([[210,   6, 279],\n",
       "       [ 22,  15, 560],\n",
       "       [ 11,   4, 893]])"
      ]
     },
     "execution_count": 41,
     "metadata": {},
     "output_type": "execute_result"
    }
   ],
   "source": [
    "confusion_matrix(attitude_test, predictions)"
   ]
  },
  {
   "cell_type": "code",
   "execution_count": 42,
   "id": "6aed6bf0",
   "metadata": {},
   "outputs": [
    {
     "data": {
      "text/plain": [
       "array(['positive'], dtype='<U8')"
      ]
     },
     "execution_count": 42,
     "metadata": {},
     "output_type": "execute_result"
    }
   ],
   "source": [
    "#Predict some messages\n",
    "pipeline.predict([\"I think this hotel is wonderful\"])"
   ]
  },
  {
   "cell_type": "code",
   "execution_count": 43,
   "id": "da3dc9a7",
   "metadata": {},
   "outputs": [
    {
     "data": {
      "text/plain": [
       "array(['negative'], dtype='<U8')"
      ]
     },
     "execution_count": 43,
     "metadata": {},
     "output_type": "execute_result"
    }
   ],
   "source": [
    "pipeline.predict([\"Horrible hotel\"])"
   ]
  },
  {
   "cell_type": "code",
   "execution_count": 44,
   "id": "4a6a69b3",
   "metadata": {},
   "outputs": [
    {
     "data": {
      "text/plain": [
       "array(['neutral'], dtype='<U8')"
      ]
     },
     "execution_count": 44,
     "metadata": {},
     "output_type": "execute_result"
    }
   ],
   "source": [
    "pipeline.predict([\"Just so so. Poor: awful service; Good: close to downtown.\"])"
   ]
  },
  {
   "cell_type": "markdown",
   "id": "f6cc9ea8",
   "metadata": {},
   "source": [
    "## Logistic Regression"
   ]
  },
  {
   "cell_type": "code",
   "execution_count": 45,
   "id": "c9613f3f",
   "metadata": {},
   "outputs": [],
   "source": [
    "#Generate the variable I needed for Logistic-regression\n",
    "hotel_data['reviews.attitude'] = np.where(hotel_data['reviews.rating'] < 3.5, -1, hotel_data['reviews.rating'])\n",
    "hotel_data['reviews.attitude'] = np.where((hotel_data['reviews.rating'] >= 3.5) & (hotel_data['reviews.rating'] < 4.5), \n",
    "                                          0, hotel_data['reviews.attitude'])\n",
    "hotel_data['reviews.attitude'] = np.where(hotel_data['reviews.rating'] >= 4.5, 1, hotel_data['reviews.attitude'])"
   ]
  },
  {
   "cell_type": "code",
   "execution_count": 46,
   "id": "b4370981",
   "metadata": {},
   "outputs": [
    {
     "data": {
      "text/plain": [
       "0       1.0\n",
       "1       1.0\n",
       "2       1.0\n",
       "3      -1.0\n",
       "4       1.0\n",
       "       ... \n",
       "9995   -1.0\n",
       "9996    0.0\n",
       "9997    0.0\n",
       "9998   -1.0\n",
       "9999   -1.0\n",
       "Name: reviews.attitude, Length: 10000, dtype: float64"
      ]
     },
     "execution_count": 46,
     "metadata": {},
     "output_type": "execute_result"
    }
   ],
   "source": [
    "hotel_data['reviews.attitude']"
   ]
  },
  {
   "cell_type": "code",
   "execution_count": 47,
   "id": "3d7284bf",
   "metadata": {},
   "outputs": [],
   "source": [
    "#Pick out the variables needed for Logistic regression and form new data\n",
    "reviews_data = hotel_data.loc[:, ['id', 'country', 'reviews.username', 'reviews.attitude', 'reviews.text']]"
   ]
  },
  {
   "cell_type": "code",
   "execution_count": 48,
   "id": "88d536af",
   "metadata": {},
   "outputs": [],
   "source": [
    "X = reviews_data.drop(columns='reviews.attitude', axis=1)\n",
    "y = reviews_data['reviews.attitude']"
   ]
  },
  {
   "cell_type": "code",
   "execution_count": 49,
   "id": "62559dd8",
   "metadata": {},
   "outputs": [],
   "source": [
    "reviews_data['reviews.text'] = reviews_data['reviews.text'].apply(remove_stopwords)"
   ]
  },
  {
   "cell_type": "code",
   "execution_count": 50,
   "id": "8caa02a0",
   "metadata": {},
   "outputs": [],
   "source": [
    "X = reviews_data['reviews.text'].values\n",
    "y = reviews_data['reviews.attitude'].values"
   ]
  },
  {
   "cell_type": "code",
   "execution_count": 51,
   "id": "6cc48ed7",
   "metadata": {},
   "outputs": [
    {
     "name": "stdout",
     "output_type": "stream",
     "text": [
      "['experience rancho valencia absolutely perfect beginning end felt special happy stayed would come back heart beat'\n",
      " 'amazing place everyone extremely warm welcoming weve stayed top notch places definitely top 2 great romantic getaway take kids along couple stuffed animals waiting girls upon arrival cant wait go back'\n",
      " 'booked 3 night stay rancho valencia play tennis since one highest rated tennis resorts america place really top luxury standpoint overall experience villas really perfect staff great attention details includes fresh squeezed orange juice morning restaurants bar room service amazing tennis program really impressive well want come back'\n",
      " ...\n",
      " 'rolled 1130 laid heads woke continental breakfast rolled daybreak construction heat done far beautiful nice updated pool area older motel staff super nice'\n",
      " 'absolutely terriblei told given non smoking room walked smelled smoke ash tray sitting table checked late smoke miserablechecking type police parking lot pulling people walking parking lot heading back houses back hotelavoid'\n",
      " 'filthy outdated noisy neighbours worst nearly eaten bed bugs agressive denali bears would reccomend hole even worst enemy next day needed medical help']\n"
     ]
    }
   ],
   "source": [
    "print(X)"
   ]
  },
  {
   "cell_type": "code",
   "execution_count": 52,
   "id": "ee7316a8",
   "metadata": {},
   "outputs": [
    {
     "name": "stdout",
     "output_type": "stream",
     "text": [
      "[ 1.  1.  1. ...  0. -1. -1.]\n"
     ]
    }
   ],
   "source": [
    "print(y)"
   ]
  },
  {
   "cell_type": "code",
   "execution_count": 53,
   "id": "caf2a67c",
   "metadata": {},
   "outputs": [
    {
     "data": {
      "text/plain": [
       "(10000,)"
      ]
     },
     "execution_count": 53,
     "metadata": {},
     "output_type": "execute_result"
    }
   ],
   "source": [
    "y.shape"
   ]
  },
  {
   "cell_type": "code",
   "execution_count": 54,
   "id": "a4bf462c",
   "metadata": {},
   "outputs": [],
   "source": [
    "vectorizer = TfidfVectorizer()\n",
    "vectorizer.fit(X)\n",
    "X = vectorizer.transform(X)"
   ]
  },
  {
   "cell_type": "code",
   "execution_count": 55,
   "id": "6b6ec43a",
   "metadata": {},
   "outputs": [],
   "source": [
    "seed = 318\n",
    "X_train, X_test, y_train, y_test = train_test_split(X, y, test_size = 0.3, random_state = seed, stratify = y)"
   ]
  },
  {
   "cell_type": "code",
   "execution_count": 56,
   "id": "834d98f7",
   "metadata": {},
   "outputs": [
    {
     "data": {
      "text/plain": [
       "array([ 1.,  1.,  1., ...,  0., -1., -1.])"
      ]
     },
     "execution_count": 56,
     "metadata": {},
     "output_type": "execute_result"
    }
   ],
   "source": [
    "y"
   ]
  },
  {
   "cell_type": "markdown",
   "id": "7fb929fb",
   "metadata": {},
   "source": [
    "### Prediction"
   ]
  },
  {
   "cell_type": "code",
   "execution_count": 57,
   "id": "e9f1cb2e",
   "metadata": {},
   "outputs": [],
   "source": [
    "logreg = LogisticRegression()"
   ]
  },
  {
   "cell_type": "code",
   "execution_count": 58,
   "id": "e3563224",
   "metadata": {},
   "outputs": [
    {
     "data": {
      "text/plain": [
       "LogisticRegression()"
      ]
     },
     "execution_count": 58,
     "metadata": {},
     "output_type": "execute_result"
    }
   ],
   "source": [
    "logreg.fit(X_train, y_train)"
   ]
  },
  {
   "cell_type": "code",
   "execution_count": 59,
   "id": "0e1d274d",
   "metadata": {},
   "outputs": [],
   "source": [
    "predictions = logreg.predict(X_test)"
   ]
  },
  {
   "cell_type": "code",
   "execution_count": 60,
   "id": "994d6e19",
   "metadata": {},
   "outputs": [
    {
     "data": {
      "text/plain": [
       "array([1., 1., 1., ..., 1., 0., 0.])"
      ]
     },
     "execution_count": 60,
     "metadata": {},
     "output_type": "execute_result"
    }
   ],
   "source": [
    "predictions"
   ]
  },
  {
   "cell_type": "markdown",
   "id": "a197aad6",
   "metadata": {},
   "source": [
    "### Evaluation"
   ]
  },
  {
   "cell_type": "code",
   "execution_count": 61,
   "id": "22924229",
   "metadata": {},
   "outputs": [
    {
     "name": "stdout",
     "output_type": "stream",
     "text": [
      "              precision    recall  f1-score   support\n",
      "\n",
      "        -1.0       0.74      0.69      0.71       756\n",
      "         0.0       0.45      0.32      0.37       832\n",
      "         1.0       0.67      0.81      0.73      1412\n",
      "\n",
      "    accuracy                           0.64      3000\n",
      "   macro avg       0.62      0.60      0.61      3000\n",
      "weighted avg       0.63      0.64      0.63      3000\n",
      "\n"
     ]
    }
   ],
   "source": [
    "print(classification_report(y_test, predictions))"
   ]
  },
  {
   "cell_type": "markdown",
   "id": "fa7cbb30",
   "metadata": {},
   "source": [
    "<div class=\"alert alert-success\">\n",
    "    <b>Interpret the results of classification report</b>:\n",
    "     <ul>         \n",
    "      <li>\n",
    "      For the negative (-1.0) class:\n",
    "      <ul>         \n",
    "      <li>\n",
    "      precision is 0.74, means that 74% of the samples predicted to be negative are truly negative.\n",
    "      </li>\n",
    "      <li>\n",
    "      recall is 0.69, means that 69% of the samples that are truly negative are accurately predicted.\n",
    "      </li>          \n",
    "      </ul> \n",
    "      <li>\n",
    "      For the neutral (0.0) class:\n",
    "      <ul>         \n",
    "      <li>\n",
    "      precision is 0.45, means that 45% of the samples predicted to be neutral are truly neutral.\n",
    "      </li>\n",
    "      <li>\n",
    "      recall is 0.32, means that 32% of the samples that are truly neutral are accurately predicted.\n",
    "      </li>          \n",
    "      </ul>\n",
    "      <li>\n",
    "      For the positive (1.0) class:\n",
    "      <ul>         \n",
    "      <li>\n",
    "      precision is 0.67, means that 67% of the samples predicted to be positive are truly positive.\n",
    "      </li>\n",
    "      <li>\n",
    "      recall is 0.81, means that 81% of the samples that are truly positive are accurately predicted.\n",
    "      </li>          \n",
    "      </ul>\n",
    "      </li>\n",
    "      <li>   \n",
    "      accuracy = 0.64, means that the number of correctly classified samples accounts for 64% of all classified samples. \n",
    "      </li>          \n",
    "    </ul>\n",
    "</div>"
   ]
  },
  {
   "cell_type": "code",
   "execution_count": 62,
   "id": "8c6d8d7b",
   "metadata": {},
   "outputs": [
    {
     "name": "stdout",
     "output_type": "stream",
     "text": [
      "[[ 518  121  117]\n",
      " [ 121  267  444]\n",
      " [  62  208 1142]]\n"
     ]
    }
   ],
   "source": [
    "print(confusion_matrix(y_test, predictions))"
   ]
  },
  {
   "cell_type": "code",
   "execution_count": 63,
   "id": "8805ddbd",
   "metadata": {},
   "outputs": [
    {
     "data": {
      "text/plain": [
       "<sklearn.metrics._plot.confusion_matrix.ConfusionMatrixDisplay at 0x7fd96a697be0>"
      ]
     },
     "execution_count": 63,
     "metadata": {},
     "output_type": "execute_result"
    },
    {
     "data": {
      "image/png": "[encoded data removed]",
      "text/plain": [
       "<Figure size 432x288 with 2 Axes>"
      ]
     },
     "metadata": {
      "needs_background": "light"
     },
     "output_type": "display_data"
    }
   ],
   "source": [
    "plot_confusion_matrix(logreg, X_test, y_test, cmap = plt.cm.Blues, normalize = 'pred')"
   ]
  },
  {
   "cell_type": "code",
   "execution_count": 64,
   "id": "5b1dbc5e",
   "metadata": {},
   "outputs": [
    {
     "data": {
      "text/plain": [
       "array([1., 1., 1., ..., 1., 1., 1.])"
      ]
     },
     "execution_count": 64,
     "metadata": {},
     "output_type": "execute_result"
    }
   ],
   "source": [
    "dummy_clf = DummyClassifier(strategy = \"most_frequent\")\n",
    "dummy_clf.fit(X_train, y_train)\n",
    "dummy_clf.predict(X_test)"
   ]
  },
  {
   "cell_type": "code",
   "execution_count": 65,
   "id": "051fe60c",
   "metadata": {},
   "outputs": [
    {
     "name": "stdout",
     "output_type": "stream",
     "text": [
      "              precision    recall  f1-score   support\n",
      "\n",
      "        -1.0       0.00      0.00      0.00       756\n",
      "         0.0       0.00      0.00      0.00       832\n",
      "         1.0       0.47      1.00      0.64      1412\n",
      "\n",
      "    accuracy                           0.47      3000\n",
      "   macro avg       0.16      0.33      0.21      3000\n",
      "weighted avg       0.22      0.47      0.30      3000\n",
      "\n"
     ]
    },
    {
     "name": "stderr",
     "output_type": "stream",
     "text": [
      "/Users/chenche/miniconda3/lib/python3.8/site-packages/sklearn/metrics/_classification.py:1248: UndefinedMetricWarning: Precision and F-score are ill-defined and being set to 0.0 in labels with no predicted samples. Use `zero_division` parameter to control this behavior.\n",
      "  _warn_prf(average, modifier, msg_start, len(result))\n",
      "/Users/chenche/miniconda3/lib/python3.8/site-packages/sklearn/metrics/_classification.py:1248: UndefinedMetricWarning: Precision and F-score are ill-defined and being set to 0.0 in labels with no predicted samples. Use `zero_division` parameter to control this behavior.\n",
      "  _warn_prf(average, modifier, msg_start, len(result))\n",
      "/Users/chenche/miniconda3/lib/python3.8/site-packages/sklearn/metrics/_classification.py:1248: UndefinedMetricWarning: Precision and F-score are ill-defined and being set to 0.0 in labels with no predicted samples. Use `zero_division` parameter to control this behavior.\n",
      "  _warn_prf(average, modifier, msg_start, len(result))\n"
     ]
    }
   ],
   "source": [
    "print(classification_report(y_test, dummy_clf.predict(X_test)))"
   ]
  },
  {
   "cell_type": "code",
   "execution_count": 66,
   "id": "75fa5534",
   "metadata": {},
   "outputs": [
    {
     "data": {
      "text/plain": [
       "1.0"
      ]
     },
     "execution_count": 66,
     "metadata": {},
     "output_type": "execute_result"
    }
   ],
   "source": [
    "dummy_clf.score(y_test, dummy_clf.predict(X_test))"
   ]
  },
  {
   "cell_type": "code",
   "execution_count": 67,
   "id": "bcb9d453",
   "metadata": {},
   "outputs": [
    {
     "data": {
      "text/plain": [
       "0.5676666666666667"
      ]
     },
     "execution_count": 67,
     "metadata": {},
     "output_type": "execute_result"
    }
   ],
   "source": [
    "dummy_clf.score(y_test, logreg.predict(X_test))"
   ]
  },
  {
   "cell_type": "code",
   "execution_count": null,
   "id": "f0ed1205",
   "metadata": {},
   "outputs": [],
   "source": []
  }
 ],
 "metadata": {
  "kernelspec": {
   "display_name": "Python 3 (ipykernel)",
   "language": "python",
   "name": "python3"
  },
  "language_info": {
   "codemirror_mode": {
    "name": "ipython",
    "version": 3
   },
   "file_extension": ".py",
   "mimetype": "text/x-python",
   "name": "python",
   "nbconvert_exporter": "python",
   "pygments_lexer": "ipython3",
   "version": "3.8.3"
  }
 },
 "nbformat": 4,
 "nbformat_minor": 5
}
